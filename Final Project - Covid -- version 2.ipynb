{
 "cells": [
  {
   "cell_type": "markdown",
   "metadata": {},
   "source": [
    "Welcome! We first import the needed packages."
   ]
  },
  {
   "cell_type": "code",
   "execution_count": 11,
   "metadata": {},
   "outputs": [],
   "source": [
    "import numpy as np\n",
    "import pandas as pd\n",
    "import matplotlib\n",
    "import matplotlib.pyplot as plt"
   ]
  },
  {
   "cell_type": "markdown",
   "metadata": {},
   "source": [
    "## 0. Goal"
   ]
  },
  {
   "cell_type": "markdown",
   "metadata": {},
   "source": [
    "The goal of this part of the project is to make a linear model to predict death rates in different states and countries. "
   ]
  },
  {
   "cell_type": "markdown",
   "metadata": {},
   "source": [
    "# Preparing Data"
   ]
  },
  {
   "cell_type": "markdown",
   "metadata": {},
   "source": [
    "## 1. Loading the data"
   ]
  },
  {
   "cell_type": "markdown",
   "metadata": {},
   "source": [
    "#1 Let's first load the data and clean it a little."
   ]
  },
  {
   "cell_type": "code",
   "execution_count": 35,
   "metadata": {},
   "outputs": [],
   "source": [
    "original_data1 = pd.read_csv('4.18states.csv')\n",
    "original_data1_cleaned = original_data1.set_index('Province_State')\n",
    "#print(original_data1_cleaned.columns)\n",
    "#print(original_data1_cleaned.index)\n",
    "#original_data1_cleaned"
   ]
  },
  {
   "cell_type": "code",
   "execution_count": 37,
   "metadata": {},
   "outputs": [
    {
     "data": {
      "text/html": [
       "<div>\n",
       "<style scoped>\n",
       "    .dataframe tbody tr th:only-of-type {\n",
       "        vertical-align: middle;\n",
       "    }\n",
       "\n",
       "    .dataframe tbody tr th {\n",
       "        vertical-align: top;\n",
       "    }\n",
       "\n",
       "    .dataframe thead th {\n",
       "        text-align: right;\n",
       "    }\n",
       "</style>\n",
       "<table border=\"1\" class=\"dataframe\">\n",
       "  <thead>\n",
       "    <tr style=\"text-align: right;\">\n",
       "      <th></th>\n",
       "      <th>countyFIPS</th>\n",
       "      <th>STATEFP</th>\n",
       "      <th>COUNTYFP</th>\n",
       "      <th>CountyName</th>\n",
       "      <th>StateName</th>\n",
       "      <th>State</th>\n",
       "      <th>lat</th>\n",
       "      <th>lon</th>\n",
       "      <th>POP_LATITUDE</th>\n",
       "      <th>POP_LONGITUDE</th>\n",
       "      <th>...</th>\n",
       "      <th>&gt;500 gatherings</th>\n",
       "      <th>public schools</th>\n",
       "      <th>restaurant dine-in</th>\n",
       "      <th>entertainment/gym</th>\n",
       "      <th>federal guidelines</th>\n",
       "      <th>foreign travel ban</th>\n",
       "      <th>SVIPercentile</th>\n",
       "      <th>HPSAShortage</th>\n",
       "      <th>HPSAServedPop</th>\n",
       "      <th>HPSAUnderservedPop</th>\n",
       "    </tr>\n",
       "  </thead>\n",
       "  <tbody>\n",
       "    <tr>\n",
       "      <th>0</th>\n",
       "      <td>01001</td>\n",
       "      <td>1.0</td>\n",
       "      <td>1.0</td>\n",
       "      <td>Autauga</td>\n",
       "      <td>AL</td>\n",
       "      <td>Alabama</td>\n",
       "      <td>32.540091</td>\n",
       "      <td>-86.645649</td>\n",
       "      <td>32.500389</td>\n",
       "      <td>-86.494165</td>\n",
       "      <td>...</td>\n",
       "      <td>737497.0</td>\n",
       "      <td>737500.0</td>\n",
       "      <td>737503.0</td>\n",
       "      <td>737512.0</td>\n",
       "      <td>737500.0</td>\n",
       "      <td>737495.0</td>\n",
       "      <td>0.4354</td>\n",
       "      <td>NaN</td>\n",
       "      <td>NaN</td>\n",
       "      <td>NaN</td>\n",
       "    </tr>\n",
       "    <tr>\n",
       "      <th>1</th>\n",
       "      <td>01003</td>\n",
       "      <td>1.0</td>\n",
       "      <td>3.0</td>\n",
       "      <td>Baldwin</td>\n",
       "      <td>AL</td>\n",
       "      <td>Alabama</td>\n",
       "      <td>30.738314</td>\n",
       "      <td>-87.726272</td>\n",
       "      <td>30.548923</td>\n",
       "      <td>-87.762381</td>\n",
       "      <td>...</td>\n",
       "      <td>737497.0</td>\n",
       "      <td>737500.0</td>\n",
       "      <td>737503.0</td>\n",
       "      <td>737512.0</td>\n",
       "      <td>737500.0</td>\n",
       "      <td>737495.0</td>\n",
       "      <td>0.2162</td>\n",
       "      <td>NaN</td>\n",
       "      <td>NaN</td>\n",
       "      <td>NaN</td>\n",
       "    </tr>\n",
       "    <tr>\n",
       "      <th>2</th>\n",
       "      <td>01005</td>\n",
       "      <td>1.0</td>\n",
       "      <td>5.0</td>\n",
       "      <td>Barbour</td>\n",
       "      <td>AL</td>\n",
       "      <td>Alabama</td>\n",
       "      <td>31.874030</td>\n",
       "      <td>-85.397327</td>\n",
       "      <td>31.844036</td>\n",
       "      <td>-85.310038</td>\n",
       "      <td>...</td>\n",
       "      <td>737497.0</td>\n",
       "      <td>737500.0</td>\n",
       "      <td>737503.0</td>\n",
       "      <td>737512.0</td>\n",
       "      <td>737500.0</td>\n",
       "      <td>737495.0</td>\n",
       "      <td>0.9959</td>\n",
       "      <td>6.08</td>\n",
       "      <td>5400.0</td>\n",
       "      <td>18241.0</td>\n",
       "    </tr>\n",
       "    <tr>\n",
       "      <th>3</th>\n",
       "      <td>01007</td>\n",
       "      <td>1.0</td>\n",
       "      <td>7.0</td>\n",
       "      <td>Bibb</td>\n",
       "      <td>AL</td>\n",
       "      <td>Alabama</td>\n",
       "      <td>32.999024</td>\n",
       "      <td>-87.125260</td>\n",
       "      <td>33.030921</td>\n",
       "      <td>-87.127659</td>\n",
       "      <td>...</td>\n",
       "      <td>737497.0</td>\n",
       "      <td>737500.0</td>\n",
       "      <td>737503.0</td>\n",
       "      <td>737512.0</td>\n",
       "      <td>737500.0</td>\n",
       "      <td>737495.0</td>\n",
       "      <td>0.6003</td>\n",
       "      <td>2.75</td>\n",
       "      <td>14980.0</td>\n",
       "      <td>6120.0</td>\n",
       "    </tr>\n",
       "    <tr>\n",
       "      <th>4</th>\n",
       "      <td>01009</td>\n",
       "      <td>1.0</td>\n",
       "      <td>9.0</td>\n",
       "      <td>Blount</td>\n",
       "      <td>AL</td>\n",
       "      <td>Alabama</td>\n",
       "      <td>33.990440</td>\n",
       "      <td>-86.562711</td>\n",
       "      <td>33.955243</td>\n",
       "      <td>-86.591491</td>\n",
       "      <td>...</td>\n",
       "      <td>737497.0</td>\n",
       "      <td>737500.0</td>\n",
       "      <td>737503.0</td>\n",
       "      <td>737512.0</td>\n",
       "      <td>737500.0</td>\n",
       "      <td>737495.0</td>\n",
       "      <td>0.4242</td>\n",
       "      <td>7.21</td>\n",
       "      <td>31850.0</td>\n",
       "      <td>25233.0</td>\n",
       "    </tr>\n",
       "    <tr>\n",
       "      <th>...</th>\n",
       "      <td>...</td>\n",
       "      <td>...</td>\n",
       "      <td>...</td>\n",
       "      <td>...</td>\n",
       "      <td>...</td>\n",
       "      <td>...</td>\n",
       "      <td>...</td>\n",
       "      <td>...</td>\n",
       "      <td>...</td>\n",
       "      <td>...</td>\n",
       "      <td>...</td>\n",
       "      <td>...</td>\n",
       "      <td>...</td>\n",
       "      <td>...</td>\n",
       "      <td>...</td>\n",
       "      <td>...</td>\n",
       "      <td>...</td>\n",
       "      <td>...</td>\n",
       "      <td>...</td>\n",
       "      <td>...</td>\n",
       "      <td>...</td>\n",
       "    </tr>\n",
       "    <tr>\n",
       "      <th>3239</th>\n",
       "      <td>15005</td>\n",
       "      <td>15.0</td>\n",
       "      <td>5.0</td>\n",
       "      <td>Kalawao</td>\n",
       "      <td>HI</td>\n",
       "      <td>NaN</td>\n",
       "      <td>NaN</td>\n",
       "      <td>NaN</td>\n",
       "      <td>21.188495</td>\n",
       "      <td>-156.979972</td>\n",
       "      <td>...</td>\n",
       "      <td>737509.0</td>\n",
       "      <td>737507.0</td>\n",
       "      <td>737504.0</td>\n",
       "      <td>737509.0</td>\n",
       "      <td>737500.0</td>\n",
       "      <td>737495.0</td>\n",
       "      <td>0.3162</td>\n",
       "      <td>NaN</td>\n",
       "      <td>NaN</td>\n",
       "      <td>NaN</td>\n",
       "    </tr>\n",
       "    <tr>\n",
       "      <th>3240</th>\n",
       "      <td>72039</td>\n",
       "      <td>72.0</td>\n",
       "      <td>39.0</td>\n",
       "      <td>Ciales Municipio</td>\n",
       "      <td>PR</td>\n",
       "      <td>NaN</td>\n",
       "      <td>NaN</td>\n",
       "      <td>NaN</td>\n",
       "      <td>18.314399</td>\n",
       "      <td>-66.494215</td>\n",
       "      <td>...</td>\n",
       "      <td>NaN</td>\n",
       "      <td>737500.0</td>\n",
       "      <td>737499.0</td>\n",
       "      <td>737499.0</td>\n",
       "      <td>737500.0</td>\n",
       "      <td>737495.0</td>\n",
       "      <td>NaN</td>\n",
       "      <td>NaN</td>\n",
       "      <td>NaN</td>\n",
       "      <td>NaN</td>\n",
       "    </tr>\n",
       "    <tr>\n",
       "      <th>3241</th>\n",
       "      <td>72069</td>\n",
       "      <td>72.0</td>\n",
       "      <td>69.0</td>\n",
       "      <td>Humacao Municipio</td>\n",
       "      <td>PR</td>\n",
       "      <td>NaN</td>\n",
       "      <td>NaN</td>\n",
       "      <td>NaN</td>\n",
       "      <td>18.144804</td>\n",
       "      <td>-65.817109</td>\n",
       "      <td>...</td>\n",
       "      <td>NaN</td>\n",
       "      <td>737500.0</td>\n",
       "      <td>737499.0</td>\n",
       "      <td>737499.0</td>\n",
       "      <td>737500.0</td>\n",
       "      <td>737495.0</td>\n",
       "      <td>NaN</td>\n",
       "      <td>NaN</td>\n",
       "      <td>NaN</td>\n",
       "      <td>NaN</td>\n",
       "    </tr>\n",
       "    <tr>\n",
       "      <th>3242</th>\n",
       "      <td>City1</td>\n",
       "      <td>NaN</td>\n",
       "      <td>NaN</td>\n",
       "      <td>New York City</td>\n",
       "      <td>NY</td>\n",
       "      <td>NaN</td>\n",
       "      <td>NaN</td>\n",
       "      <td>NaN</td>\n",
       "      <td>NaN</td>\n",
       "      <td>NaN</td>\n",
       "      <td>...</td>\n",
       "      <td>NaN</td>\n",
       "      <td>NaN</td>\n",
       "      <td>NaN</td>\n",
       "      <td>NaN</td>\n",
       "      <td>NaN</td>\n",
       "      <td>NaN</td>\n",
       "      <td>NaN</td>\n",
       "      <td>NaN</td>\n",
       "      <td>NaN</td>\n",
       "      <td>NaN</td>\n",
       "    </tr>\n",
       "    <tr>\n",
       "      <th>3243</th>\n",
       "      <td>City2</td>\n",
       "      <td>NaN</td>\n",
       "      <td>NaN</td>\n",
       "      <td>Kansas City</td>\n",
       "      <td>MO</td>\n",
       "      <td>NaN</td>\n",
       "      <td>NaN</td>\n",
       "      <td>NaN</td>\n",
       "      <td>NaN</td>\n",
       "      <td>NaN</td>\n",
       "      <td>...</td>\n",
       "      <td>NaN</td>\n",
       "      <td>NaN</td>\n",
       "      <td>NaN</td>\n",
       "      <td>NaN</td>\n",
       "      <td>NaN</td>\n",
       "      <td>NaN</td>\n",
       "      <td>NaN</td>\n",
       "      <td>NaN</td>\n",
       "      <td>NaN</td>\n",
       "      <td>NaN</td>\n",
       "    </tr>\n",
       "  </tbody>\n",
       "</table>\n",
       "<p>3244 rows × 87 columns</p>\n",
       "</div>"
      ],
      "text/plain": [
       "     countyFIPS  STATEFP  COUNTYFP         CountyName StateName    State  \\\n",
       "0         01001      1.0       1.0            Autauga        AL  Alabama   \n",
       "1         01003      1.0       3.0            Baldwin        AL  Alabama   \n",
       "2         01005      1.0       5.0            Barbour        AL  Alabama   \n",
       "3         01007      1.0       7.0               Bibb        AL  Alabama   \n",
       "4         01009      1.0       9.0             Blount        AL  Alabama   \n",
       "...         ...      ...       ...                ...       ...      ...   \n",
       "3239      15005     15.0       5.0            Kalawao        HI      NaN   \n",
       "3240      72039     72.0      39.0   Ciales Municipio        PR      NaN   \n",
       "3241      72069     72.0      69.0  Humacao Municipio        PR      NaN   \n",
       "3242      City1      NaN       NaN      New York City        NY      NaN   \n",
       "3243      City2      NaN       NaN        Kansas City        MO      NaN   \n",
       "\n",
       "            lat        lon  POP_LATITUDE  POP_LONGITUDE  ... >500 gatherings  \\\n",
       "0     32.540091 -86.645649     32.500389     -86.494165  ...        737497.0   \n",
       "1     30.738314 -87.726272     30.548923     -87.762381  ...        737497.0   \n",
       "2     31.874030 -85.397327     31.844036     -85.310038  ...        737497.0   \n",
       "3     32.999024 -87.125260     33.030921     -87.127659  ...        737497.0   \n",
       "4     33.990440 -86.562711     33.955243     -86.591491  ...        737497.0   \n",
       "...         ...        ...           ...            ...  ...             ...   \n",
       "3239        NaN        NaN     21.188495    -156.979972  ...        737509.0   \n",
       "3240        NaN        NaN     18.314399     -66.494215  ...             NaN   \n",
       "3241        NaN        NaN     18.144804     -65.817109  ...             NaN   \n",
       "3242        NaN        NaN           NaN            NaN  ...             NaN   \n",
       "3243        NaN        NaN           NaN            NaN  ...             NaN   \n",
       "\n",
       "     public schools  restaurant dine-in  entertainment/gym  \\\n",
       "0          737500.0            737503.0           737512.0   \n",
       "1          737500.0            737503.0           737512.0   \n",
       "2          737500.0            737503.0           737512.0   \n",
       "3          737500.0            737503.0           737512.0   \n",
       "4          737500.0            737503.0           737512.0   \n",
       "...             ...                 ...                ...   \n",
       "3239       737507.0            737504.0           737509.0   \n",
       "3240       737500.0            737499.0           737499.0   \n",
       "3241       737500.0            737499.0           737499.0   \n",
       "3242            NaN                 NaN                NaN   \n",
       "3243            NaN                 NaN                NaN   \n",
       "\n",
       "      federal guidelines  foreign travel ban  SVIPercentile  HPSAShortage  \\\n",
       "0               737500.0            737495.0         0.4354           NaN   \n",
       "1               737500.0            737495.0         0.2162           NaN   \n",
       "2               737500.0            737495.0         0.9959          6.08   \n",
       "3               737500.0            737495.0         0.6003          2.75   \n",
       "4               737500.0            737495.0         0.4242          7.21   \n",
       "...                  ...                 ...            ...           ...   \n",
       "3239            737500.0            737495.0         0.3162           NaN   \n",
       "3240            737500.0            737495.0            NaN           NaN   \n",
       "3241            737500.0            737495.0            NaN           NaN   \n",
       "3242                 NaN                 NaN            NaN           NaN   \n",
       "3243                 NaN                 NaN            NaN           NaN   \n",
       "\n",
       "      HPSAServedPop  HPSAUnderservedPop  \n",
       "0               NaN                 NaN  \n",
       "1               NaN                 NaN  \n",
       "2            5400.0             18241.0  \n",
       "3           14980.0              6120.0  \n",
       "4           31850.0             25233.0  \n",
       "...             ...                 ...  \n",
       "3239            NaN                 NaN  \n",
       "3240            NaN                 NaN  \n",
       "3241            NaN                 NaN  \n",
       "3242            NaN                 NaN  \n",
       "3243            NaN                 NaN  \n",
       "\n",
       "[3244 rows x 87 columns]"
      ]
     },
     "execution_count": 37,
     "metadata": {},
     "output_type": "execute_result"
    }
   ],
   "source": [
    "original_data2 = pd.read_csv('abridged_couties.csv')\n",
    "#print(original_data2.columns)\n",
    "original_data2"
   ]
  },
  {
   "cell_type": "markdown",
   "metadata": {},
   "source": [
    "To begin with, we first take an \"educated guess\" and select a few features of interest in the second table, which we think will affect the death rate of Covid 19. \n"
   ]
  },
  {
   "cell_type": "code",
   "execution_count": 38,
   "metadata": {},
   "outputs": [
    {
     "data": {
      "text/html": [
       "<div>\n",
       "<style scoped>\n",
       "    .dataframe tbody tr th:only-of-type {\n",
       "        vertical-align: middle;\n",
       "    }\n",
       "\n",
       "    .dataframe tbody tr th {\n",
       "        vertical-align: top;\n",
       "    }\n",
       "\n",
       "    .dataframe thead th {\n",
       "        text-align: right;\n",
       "    }\n",
       "</style>\n",
       "<table border=\"1\" class=\"dataframe\">\n",
       "  <thead>\n",
       "    <tr style=\"text-align: right;\">\n",
       "      <th></th>\n",
       "      <th>CountyName</th>\n",
       "      <th>State</th>\n",
       "      <th>lat</th>\n",
       "      <th>stay at home</th>\n",
       "      <th>public schools</th>\n",
       "      <th>&gt;500 gatherings</th>\n",
       "    </tr>\n",
       "  </thead>\n",
       "  <tbody>\n",
       "    <tr>\n",
       "      <th>0</th>\n",
       "      <td>Autauga</td>\n",
       "      <td>Alabama</td>\n",
       "      <td>32.540091</td>\n",
       "      <td>737519.0</td>\n",
       "      <td>737500.0</td>\n",
       "      <td>737497.0</td>\n",
       "    </tr>\n",
       "    <tr>\n",
       "      <th>1</th>\n",
       "      <td>Baldwin</td>\n",
       "      <td>Alabama</td>\n",
       "      <td>30.738314</td>\n",
       "      <td>737519.0</td>\n",
       "      <td>737500.0</td>\n",
       "      <td>737497.0</td>\n",
       "    </tr>\n",
       "    <tr>\n",
       "      <th>2</th>\n",
       "      <td>Barbour</td>\n",
       "      <td>Alabama</td>\n",
       "      <td>31.874030</td>\n",
       "      <td>737519.0</td>\n",
       "      <td>737500.0</td>\n",
       "      <td>737497.0</td>\n",
       "    </tr>\n",
       "    <tr>\n",
       "      <th>3</th>\n",
       "      <td>Bibb</td>\n",
       "      <td>Alabama</td>\n",
       "      <td>32.999024</td>\n",
       "      <td>737519.0</td>\n",
       "      <td>737500.0</td>\n",
       "      <td>737497.0</td>\n",
       "    </tr>\n",
       "    <tr>\n",
       "      <th>4</th>\n",
       "      <td>Blount</td>\n",
       "      <td>Alabama</td>\n",
       "      <td>33.990440</td>\n",
       "      <td>737519.0</td>\n",
       "      <td>737500.0</td>\n",
       "      <td>737497.0</td>\n",
       "    </tr>\n",
       "    <tr>\n",
       "      <th>...</th>\n",
       "      <td>...</td>\n",
       "      <td>...</td>\n",
       "      <td>...</td>\n",
       "      <td>...</td>\n",
       "      <td>...</td>\n",
       "      <td>...</td>\n",
       "    </tr>\n",
       "    <tr>\n",
       "      <th>3239</th>\n",
       "      <td>Kalawao</td>\n",
       "      <td>NaN</td>\n",
       "      <td>NaN</td>\n",
       "      <td>737509.0</td>\n",
       "      <td>737507.0</td>\n",
       "      <td>737509.0</td>\n",
       "    </tr>\n",
       "    <tr>\n",
       "      <th>3240</th>\n",
       "      <td>Ciales Municipio</td>\n",
       "      <td>NaN</td>\n",
       "      <td>NaN</td>\n",
       "      <td>NaN</td>\n",
       "      <td>737500.0</td>\n",
       "      <td>NaN</td>\n",
       "    </tr>\n",
       "    <tr>\n",
       "      <th>3241</th>\n",
       "      <td>Humacao Municipio</td>\n",
       "      <td>NaN</td>\n",
       "      <td>NaN</td>\n",
       "      <td>NaN</td>\n",
       "      <td>737500.0</td>\n",
       "      <td>NaN</td>\n",
       "    </tr>\n",
       "    <tr>\n",
       "      <th>3242</th>\n",
       "      <td>New York City</td>\n",
       "      <td>NaN</td>\n",
       "      <td>NaN</td>\n",
       "      <td>NaN</td>\n",
       "      <td>NaN</td>\n",
       "      <td>NaN</td>\n",
       "    </tr>\n",
       "    <tr>\n",
       "      <th>3243</th>\n",
       "      <td>Kansas City</td>\n",
       "      <td>NaN</td>\n",
       "      <td>NaN</td>\n",
       "      <td>NaN</td>\n",
       "      <td>NaN</td>\n",
       "      <td>NaN</td>\n",
       "    </tr>\n",
       "  </tbody>\n",
       "</table>\n",
       "<p>3244 rows × 6 columns</p>\n",
       "</div>"
      ],
      "text/plain": [
       "             CountyName    State        lat  stay at home  public schools  \\\n",
       "0               Autauga  Alabama  32.540091      737519.0        737500.0   \n",
       "1               Baldwin  Alabama  30.738314      737519.0        737500.0   \n",
       "2               Barbour  Alabama  31.874030      737519.0        737500.0   \n",
       "3                  Bibb  Alabama  32.999024      737519.0        737500.0   \n",
       "4                Blount  Alabama  33.990440      737519.0        737500.0   \n",
       "...                 ...      ...        ...           ...             ...   \n",
       "3239            Kalawao      NaN        NaN      737509.0        737507.0   \n",
       "3240   Ciales Municipio      NaN        NaN           NaN        737500.0   \n",
       "3241  Humacao Municipio      NaN        NaN           NaN        737500.0   \n",
       "3242      New York City      NaN        NaN           NaN             NaN   \n",
       "3243        Kansas City      NaN        NaN           NaN             NaN   \n",
       "\n",
       "      >500 gatherings  \n",
       "0            737497.0  \n",
       "1            737497.0  \n",
       "2            737497.0  \n",
       "3            737497.0  \n",
       "4            737497.0  \n",
       "...               ...  \n",
       "3239         737509.0  \n",
       "3240              NaN  \n",
       "3241              NaN  \n",
       "3242              NaN  \n",
       "3243              NaN  \n",
       "\n",
       "[3244 rows x 6 columns]"
      ]
     },
     "execution_count": 38,
     "metadata": {},
     "output_type": "execute_result"
    }
   ],
   "source": [
    "operate_data2 = original_data2[['CountyName', 'State', 'lat', 'stay at home', 'public schools', '>500 gatherings'\n",
    "                                 ]] \n",
    "operate_data2"
   ]
  },
  {
   "cell_type": "markdown",
   "metadata": {},
   "source": [
    "We find the mortality rate in the first (aggregate) table, then append it to each entry in the second table, based on the State of each entry.\n",
    "\n",
    "**Question**: can you take the aggregate data from a bigger granularity (state) to a data of lower granularity (county)? The mortality rate in different county is different, and since each county has different population, we cannot generalize one state's mortality rate to all counties in it?\n",
    "\n",
    "**For now** we will just use all other factors to *falsely* predict #latitude, and change it back to mortality rate later. I am not sure how to append mortality rates to counties (temporarily lost my memory) but will fix it later. I still attached my starter code below."
   ]
  },
  {
   "cell_type": "code",
   "execution_count": 39,
   "metadata": {
    "scrolled": true
   },
   "outputs": [
    {
     "data": {
      "text/plain": [
       "Province_State\n",
       "Alabama           3.247029\n",
       "Alaska            2.866242\n",
       "American Samoa         NaN\n",
       "Arizona           3.810330\n",
       "Arkansas          2.178899\n",
       "                    ...   \n",
       "Xinjiang          3.947368\n",
       "Yukon             0.000000\n",
       "Yunnan            1.086957\n",
       "Zhejiang          0.078864\n",
       "Grand Princess    0.000000\n",
       "Name: Mortality_Rate, Length: 140, dtype: float64"
      ]
     },
     "execution_count": 39,
     "metadata": {},
     "output_type": "execute_result"
    }
   ],
   "source": [
    "mortality_rate = original_data1_cleaned['Mortality_Rate']\n",
    "#operate_data2['mortality_rate'] = operate_data2[operate_data2['State'].isin(mortality_rate.index)]\n",
    "mortality_rate\n"
   ]
  },
  {
   "cell_type": "code",
   "execution_count": null,
   "metadata": {},
   "outputs": [],
   "source": []
  },
  {
   "cell_type": "markdown",
   "metadata": {},
   "source": [
    "# EDA"
   ]
  },
  {
   "cell_type": "markdown",
   "metadata": {},
   "source": [
    "## 2. Missing Values"
   ]
  },
  {
   "cell_type": "markdown",
   "metadata": {},
   "source": [
    "#2 Now we will look at missing values."
   ]
  },
  {
   "cell_type": "code",
   "execution_count": 16,
   "metadata": {
    "scrolled": true
   },
   "outputs": [
    {
     "data": {
      "text/plain": [
       "CountyName           0\n",
       "State              169\n",
       "lat                169\n",
       "stay at home       592\n",
       "public schools      25\n",
       ">500 gatherings    221\n",
       "dtype: int64"
      ]
     },
     "execution_count": 16,
     "metadata": {},
     "output_type": "execute_result"
    }
   ],
   "source": [
    "operate_data2.isnull().sum()"
   ]
  },
  {
   "cell_type": "markdown",
   "metadata": {},
   "source": [
    "We can first disregard the counties without a state (but need to investigate which counties they are in later). "
   ]
  },
  {
   "cell_type": "code",
   "execution_count": 17,
   "metadata": {},
   "outputs": [],
   "source": [
    "# counties WITHOUT states.\n",
    "#operate_data2[operate_data2['State'].isnull()]\n"
   ]
  },
  {
   "cell_type": "code",
   "execution_count": 31,
   "metadata": {},
   "outputs": [],
   "source": [
    "operate_data2_with_states = operate_data2[operate_data2['State'].notnull()]\n",
    "#operate_data2_with_states\n"
   ]
  },
  {
   "cell_type": "markdown",
   "metadata": {},
   "source": [
    "We should replace the NaN values of 'stay at home', 'public school', and '>500 gatherings' with the average value in their states. \n",
    "\n",
    "**For Now** for simplicity I will replace all values in the three columns with an average value of the whole table (which is incorrect but convenient). \n",
    "\n",
    "**Question** not sure why the error pops up, also this code looks pretty ugly."
   ]
  },
  {
   "cell_type": "code",
   "execution_count": 33,
   "metadata": {},
   "outputs": [
    {
     "name": "stderr",
     "output_type": "stream",
     "text": [
      "/srv/conda/envs/data100/lib/python3.7/site-packages/ipykernel_launcher.py:1: SettingWithCopyWarning: \n",
      "A value is trying to be set on a copy of a slice from a DataFrame.\n",
      "Try using .loc[row_indexer,col_indexer] = value instead\n",
      "\n",
      "See the caveats in the documentation: http://pandas.pydata.org/pandas-docs/stable/user_guide/indexing.html#returning-a-view-versus-a-copy\n",
      "  \"\"\"Entry point for launching an IPython kernel.\n",
      "/srv/conda/envs/data100/lib/python3.7/site-packages/ipykernel_launcher.py:2: SettingWithCopyWarning: \n",
      "A value is trying to be set on a copy of a slice from a DataFrame.\n",
      "Try using .loc[row_indexer,col_indexer] = value instead\n",
      "\n",
      "See the caveats in the documentation: http://pandas.pydata.org/pandas-docs/stable/user_guide/indexing.html#returning-a-view-versus-a-copy\n",
      "  \n",
      "/srv/conda/envs/data100/lib/python3.7/site-packages/ipykernel_launcher.py:3: SettingWithCopyWarning: \n",
      "A value is trying to be set on a copy of a slice from a DataFrame.\n",
      "Try using .loc[row_indexer,col_indexer] = value instead\n",
      "\n",
      "See the caveats in the documentation: http://pandas.pydata.org/pandas-docs/stable/user_guide/indexing.html#returning-a-view-versus-a-copy\n",
      "  This is separate from the ipykernel package so we can avoid doing imports until\n"
     ]
    },
    {
     "data": {
      "text/plain": [
       "CountyName         0\n",
       "State              0\n",
       "lat                0\n",
       "stay at home       0\n",
       "public schools     0\n",
       ">500 gatherings    0\n",
       "dtype: int64"
      ]
     },
     "execution_count": 33,
     "metadata": {},
     "output_type": "execute_result"
    }
   ],
   "source": [
    "operate_data2_with_states['stay at home'] = operate_data2_with_states['stay at home'].fillna(np.mean(operate_data2_with_states['stay at home']))\n",
    "operate_data2_with_states['public schools'] = operate_data2_with_states['public schools'].fillna(np.mean(operate_data2_with_states['public schools']))\n",
    "operate_data2_with_states['>500 gatherings'] = operate_data2_with_states['>500 gatherings'].fillna(np.mean(operate_data2_with_states['>500 gatherings']))\n",
    "operate_data2_with_states.isnull().sum()\n",
    "#operate_data2_with_states[operate_data2_with_states['stay at home'].isnull()]"
   ]
  },
  {
   "cell_type": "markdown",
   "metadata": {},
   "source": [
    "Now we can see all the null values are filled."
   ]
  },
  {
   "cell_type": "markdown",
   "metadata": {},
   "source": [
    "## 3 Outliers"
   ]
  },
  {
   "cell_type": "markdown",
   "metadata": {},
   "source": [
    "#3 Let's observe whether there is any outliers. "
   ]
  },
  {
   "cell_type": "code",
   "execution_count": 20,
   "metadata": {},
   "outputs": [
    {
     "data": {
      "text/plain": [
       "737501.000000    474\n",
       "737497.000000    309\n",
       "737508.000000    268\n",
       "737498.000000    254\n",
       "737509.000000    236\n",
       "737502.000000    197\n",
       "737510.000000    195\n",
       "737503.000000    151\n",
       "737496.000000    129\n",
       "737503.761164    119\n",
       "737505.000000    115\n",
       "737517.000000     99\n",
       "737499.000000     88\n",
       "737511.000000     87\n",
       "737513.000000     77\n",
       "737507.000000     75\n",
       "737500.000000     62\n",
       "737512.000000     56\n",
       "737495.000000     39\n",
       "737504.000000     23\n",
       "737514.000000     22\n",
       "Name: >500 gatherings, dtype: int64"
      ]
     },
     "execution_count": 20,
     "metadata": {},
     "output_type": "execute_result"
    }
   ],
   "source": [
    "operate_data2_with_states['stay at home'].value_counts()\n",
    "operate_data2_with_states['public schools'].value_counts()\n",
    "operate_data2_with_states['>500 gatherings'].value_counts()"
   ]
  },
  {
   "cell_type": "markdown",
   "metadata": {},
   "source": [
    "By observing the value_counts, we find that there is no significant outlier. "
   ]
  },
  {
   "cell_type": "markdown",
   "metadata": {},
   "source": [
    "**To Do:** Here we can also draw some scatter plot to show the relation between some features we choose and the response vector (death rate), and show they have positive correlation."
   ]
  },
  {
   "cell_type": "markdown",
   "metadata": {},
   "source": [
    "## 4. Train-Test Split"
   ]
  },
  {
   "cell_type": "markdown",
   "metadata": {},
   "source": [
    "#4 Let's do a train-test split."
   ]
  },
  {
   "cell_type": "code",
   "execution_count": 21,
   "metadata": {},
   "outputs": [],
   "source": [
    "from sklearn.model_selection import train_test_split\n",
    "\n",
    "train, test = train_test_split(operate_data2_with_states, test_size=0.1, random_state=42)"
   ]
  },
  {
   "cell_type": "markdown",
   "metadata": {},
   "source": [
    "Let's do some feature selection. What are some good features to use to predict death rates? "
   ]
  },
  {
   "cell_type": "markdown",
   "metadata": {},
   "source": [
    "# Classification"
   ]
  },
  {
   "cell_type": "markdown",
   "metadata": {},
   "source": [
    "## 5. Basic Classification"
   ]
  },
  {
   "cell_type": "markdown",
   "metadata": {},
   "source": [
    "#5 After selecting features, now we will make training set and test sets. "
   ]
  },
  {
   "cell_type": "code",
   "execution_count": 22,
   "metadata": {},
   "outputs": [
    {
     "data": {
      "text/plain": [
       "(       stay at home  public schools  >500 gatherings\n",
       " 3033  737508.000000        737500.0         737508.0\n",
       " 477   737518.000000        737502.0         737501.0\n",
       " 1688  737512.476209        737503.0         737503.0\n",
       " 1880  737506.000000        737502.0         737497.0\n",
       " 2689  737517.000000        737507.0         737498.0, 3033    38.775217\n",
       " 477     33.483357\n",
       " 1688    41.910133\n",
       " 1880    41.890001\n",
       " 2689    30.317938\n",
       " Name: lat, dtype: float64)"
      ]
     },
     "execution_count": 22,
     "metadata": {},
     "output_type": "execute_result"
    }
   ],
   "source": [
    "X_train = train.drop(['lat', 'CountyName', 'State'], axis=1)\n",
    "Y_train = train['lat']\n",
    "\n",
    "X_train[:5], Y_train[:5]"
   ]
  },
  {
   "cell_type": "markdown",
   "metadata": {},
   "source": [
    "Now we will make a linear regression model, fit the model with training data, and get the training loss. \n",
    "\n",
    "Loss function: I will use RMSE now but we can try other loss functions later. "
   ]
  },
  {
   "cell_type": "code",
   "execution_count": 23,
   "metadata": {},
   "outputs": [
    {
     "name": "stdout",
     "output_type": "stream",
     "text": [
      "Training loss:  16.412422919778123\n"
     ]
    }
   ],
   "source": [
    "from sklearn.linear_model import LinearRegression\n",
    "from sklearn import metrics\n",
    "\n",
    "\n",
    "\n",
    "model = LinearRegression(fit_intercept=True) # should fit intercept be true?\n",
    "model.fit(X_train, Y_train)\n",
    "\n",
    "Y_prediction = model.predict(X_train)\n",
    "\n",
    "\n",
    "training_loss = metrics.mean_squared_error(Y_prediction, Y_train)\n",
    "print(\"Training loss: \", training_loss)"
   ]
  },
  {
   "cell_type": "markdown",
   "metadata": {},
   "source": [
    "## 6. Cross-Validation"
   ]
  },
  {
   "cell_type": "markdown",
   "metadata": {},
   "source": [
    "#6 Now let's perform cross-validation to check whether we are overfitting, and determine which features are useful. "
   ]
  },
  {
   "cell_type": "code",
   "execution_count": 26,
   "metadata": {},
   "outputs": [
    {
     "name": "stdout",
     "output_type": "stream",
     "text": [
      "Trying first 1 features\n",
      "\tScore: 0.23284529538706739\n",
      "Trying first 2 features\n",
      "\tScore: 0.2323168254291003\n",
      "Trying first 3 features\n",
      "\tScore: 0.3003127658312975\n",
      "3\n",
      "Best choice, use the first 3 features\n"
     ]
    }
   ],
   "source": [
    "# perform cross validation\n",
    "from sklearn import model_selection as ms\n",
    "\n",
    "# finding which features to use using Cross Validation\n",
    "errors = []\n",
    "range_of_num_features = range(1, X_train.shape[1] + 1)\n",
    "for N in range_of_num_features:\n",
    "    print(f\"Trying first {N} features\")\n",
    "    model = LinearRegression()\n",
    "    \n",
    "    # compute the cross validation error\n",
    "    error = ms.cross_val_score(model, X_train.iloc[:, 0:N], Y_train).mean()\n",
    "    \n",
    "    print(\"\\tScore:\", error)\n",
    "    errors.append(error)\n",
    "\n",
    "best_num_features = np.argmax(errors) + 1\n",
    "print (best_num_features)\n",
    "best_err = min(errors)\n",
    "\n",
    "print(f\"Best choice, use the first {best_num_features} features\")"
   ]
  },
  {
   "cell_type": "markdown",
   "metadata": {},
   "source": [
    "## 7. Regularization"
   ]
  },
  {
   "cell_type": "markdown",
   "metadata": {},
   "source": [
    "#7 Here we perform regularization of data."
   ]
  },
  {
   "cell_type": "code",
   "execution_count": null,
   "metadata": {},
   "outputs": [],
   "source": []
  },
  {
   "cell_type": "markdown",
   "metadata": {},
   "source": [
    "## 8. Test"
   ]
  },
  {
   "cell_type": "markdown",
   "metadata": {},
   "source": [
    "#8 Here we will test our model on test set and find its test accuracy. "
   ]
  },
  {
   "cell_type": "code",
   "execution_count": null,
   "metadata": {},
   "outputs": [],
   "source": []
  },
  {
   "cell_type": "markdown",
   "metadata": {},
   "source": [
    "## 9. Conclusion"
   ]
  },
  {
   "cell_type": "markdown",
   "metadata": {},
   "source": [
    "#9 We can also fit other models (like logistic model?) with our training data, and test on test set about their accuracy."
   ]
  },
  {
   "cell_type": "code",
   "execution_count": null,
   "metadata": {},
   "outputs": [],
   "source": []
  },
  {
   "cell_type": "code",
   "execution_count": null,
   "metadata": {},
   "outputs": [],
   "source": []
  },
  {
   "cell_type": "code",
   "execution_count": null,
   "metadata": {},
   "outputs": [],
   "source": []
  }
 ],
 "metadata": {
  "kernelspec": {
   "display_name": "Python 3",
   "language": "python",
   "name": "python3"
  },
  "language_info": {
   "codemirror_mode": {
    "name": "ipython",
    "version": 3
   },
   "file_extension": ".py",
   "mimetype": "text/x-python",
   "name": "python",
   "nbconvert_exporter": "python",
   "pygments_lexer": "ipython3",
   "version": "3.7.6"
  }
 },
 "nbformat": 4,
 "nbformat_minor": 4
}
